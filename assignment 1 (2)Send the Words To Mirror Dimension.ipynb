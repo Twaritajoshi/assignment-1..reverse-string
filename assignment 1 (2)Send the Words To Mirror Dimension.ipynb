{
 "cells": [
  {
   "cell_type": "code",
   "execution_count": null,
   "id": "47e5f0e7",
   "metadata": {},
   "outputs": [],
   "source": [
    "#Write a Python program that accepts a word from the user and reverse it.\n",
    "#Sample Test Case\n",
    "#Input : Edyoda"
   ]
  },
  {
   "cell_type": "code",
   "execution_count": 1,
   "id": "80ddc5d5",
   "metadata": {},
   "outputs": [
    {
     "name": "stdout",
     "output_type": "stream",
     "text": [
      "enter the string you need to reverseEdyoda\n",
      "adoydE\n"
     ]
    }
   ],
   "source": [
    "word = input(\"enter the string you need to reverse\")\n",
    "rev_word = word[-1::-1]\n",
    "print(rev_word)"
   ]
  }
 ],
 "metadata": {
  "kernelspec": {
   "display_name": "Python 3 (ipykernel)",
   "language": "python",
   "name": "python3"
  },
  "language_info": {
   "codemirror_mode": {
    "name": "ipython",
    "version": 3
   },
   "file_extension": ".py",
   "mimetype": "text/x-python",
   "name": "python",
   "nbconvert_exporter": "python",
   "pygments_lexer": "ipython3",
   "version": "3.9.12"
  }
 },
 "nbformat": 4,
 "nbformat_minor": 5
}
